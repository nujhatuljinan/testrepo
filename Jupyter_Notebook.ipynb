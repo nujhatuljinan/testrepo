{
 "cells": [
  {
   "cell_type": "markdown",
   "metadata": {},
   "source": [
    "<center>\n",
    "    <img src=\"https://s3-api.us-geo.objectstorage.softlayer.net/cf-courses-data/CognitiveClass/Logos/organization_logo/organization_logo.png\" width=\"300\" alt=\"cognitiveclass.ai logo\"  />\n",
    "</center>\n"
   ]
  },
  {
   "cell_type": "markdown",
   "metadata": {},
   "source": [
    "#### Add your code below following the instructions given in the course\n"
   ]
  },
  {
   "cell_type": "markdown",
   "metadata": {},
   "source": [
    "# My Jupyter Notebook on IBM Watson Studio"
   ]
  },
  {
   "cell_type": "markdown",
   "metadata": {},
   "source": [
    "**Nujhatul Jinan Shithil**  \n",
    "Aspiring Data Scientist"
   ]
  },
  {
   "cell_type": "markdown",
   "metadata": {},
   "source": [
    "_I am interested in data science because I want to figure out solutions for existing problems,\n",
    "with the vast amount of data available, and improve efficiency of existing solutions, especially in the healthcare industry._"
   ]
  },
  {
   "cell_type": "markdown",
   "metadata": {},
   "source": [
    "### Following Code Says Hello World"
   ]
  },
  {
   "cell_type": "code",
   "execution_count": 1,
   "metadata": {},
   "outputs": [
    {
     "name": "stdout",
     "output_type": "stream",
     "text": [
      "Hello World\n"
     ]
    }
   ],
   "source": [
    "print('Hello World')"
   ]
  },
  {
   "cell_type": "markdown",
   "metadata": {},
   "source": [
    "#### Horizontal Rule Markdown\n",
    "---\n",
    "\n",
    "#### Bulleted List Markdown\n",
    "  * Item one\n",
    "    * Nested item one\n",
    "    * Nested item two\n",
    "  * Item two\n",
    "  * Item three\n",
    "#### Numbered List Markdown\n",
    "  1. Item one\n",
    "  2. Item two\n",
    "  3. Item three\n",
    "  \n",
    "#### Table Markdown\n",
    "| Item | Rating |\n",
    "| :---  | ---    |\n",
    "| Lasagna | 4 stars |\n",
    "| Veg Momos | 5 stars |\n",
    "| Ramen Noodles | 5 stars |\n",
    "| Lassi | 5 stars |\n",
    "\n",
    "#### Hyperlink Markdown\n",
    "[IBM Cloud](https://www.ibm.com/cloud)\n",
    "\n",
    "#### Code/Syntax Highlighting Markdown\n",
    "```python\n",
    "msg = \"Wannabe data scientist.\"\n",
    "print(msg)\n",
    "```\n",
    "\n",
    "#### Blocked Quotes Markdown\n",
    ">Lorem ipsum dolor sit amet, consectetur adipiscing elit. Nullam non placerat velit. Nulla ac diam leo. Nam vel convallis ligula. Nulla tincidunt sagittis magna, et vehicula enim maximus vitae.\n",
    ">Vestibulum hendrerit augue et lectus euismod, non facilisis dolor varius.\n",
    "\n",
    "#### Strikethrough Markdown\n",
    "This is ~~strike through~~ text.\n",
    "\n",
    "#### Image Markdown\n",
    "\n",
    "![alt text](https://github.com/adam-p/markdown-here/raw/master/src/common/images/icon48.png \"Logo Title Text 1\")\n"
   ]
  }
 ],
 "metadata": {
  "kernelspec": {
   "display_name": "Python",
   "language": "python",
   "name": "conda-env-python-py"
  },
  "language_info": {
   "codemirror_mode": {
    "name": "ipython",
    "version": 3
   },
   "file_extension": ".py",
   "mimetype": "text/x-python",
   "name": "python",
   "nbconvert_exporter": "python",
   "pygments_lexer": "ipython3",
   "version": "3.7.12"
  }
 },
 "nbformat": 4,
 "nbformat_minor": 4
}
